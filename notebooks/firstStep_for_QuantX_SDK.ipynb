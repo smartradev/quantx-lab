{
 "cells": [
  {
   "cell_type": "markdown",
   "metadata": {},
   "source": [
    "# QuantX SDK はじめの一歩\n",
    "\n",
    "Special thanks, shinseitaroさん!\n",
    "\n",
    "このドキュメントは shinseitaroさんに作成いただいたものをSmartTradeにて編集させていただきました。ありがとうございます！\n",
    "\n",
    "このインストラクションは未完成です。メモ程度なので、わかりにくいと思います。ご意見いただければ書き直しますので教えてくださいm(_ _)m\n",
    "\n",
    "---\n",
    "\n",
    "### アクセスキーを取得\n",
    "\n",
    "sdk を使うためには，アクセスキーとシークレットキーが必要です．\n",
    "\n",
    "アクセスキーとシークレットキーは、quantxにログインして，https://factory.quantx.io/settings/token から取得してください．\n",
    "\n",
    "取得したアクセスキーとシークレットキーを変数に格納しておきましょう．\n"
   ]
  },
  {
   "cell_type": "code",
   "execution_count": 5,
   "metadata": {},
   "outputs": [],
   "source": [
    "# public_keyとsecret_keyは各自ご自身のキーで置き換えてください\n",
    "access_key = \"xxxxxxxxxxxxxxxxxxxxxxxxxxxxxxxxxxxxxx\"\n",
    "secret_key = \"xxxxxxxxxxxxxxxxxxxxxxxxxxxxxxxxxxxxxx\"\n"
   ]
  },
  {
   "cell_type": "markdown",
   "metadata": {},
   "source": [
    "---\n",
    "### 新規プロジェクトを作成\n"
   ]
  },
  {
   "cell_type": "code",
   "execution_count": 6,
   "metadata": {},
   "outputs": [],
   "source": [
    "# sdk をインポート\n",
    "from quantx_sdk import QX\n",
    "\n",
    "# 新規プロジェクト作成\n",
    "qx = QX(access_key, secret_key)\n",
    "\n",
    "# 新規プロジェクト名。５文字以上の適当な文字列\n",
    "new_name = \"an new project\"\n",
    "\n",
    "# 新規プロジェクトを作成。\n",
    "prj = qx.new_project(new_name)\n",
    "\n"
   ]
  },
  {
   "cell_type": "markdown",
   "metadata": {},
   "source": [
    "上記を実行した後,https://factory.quantx.io/projects にログインしてみてください．\n",
    "\n",
    "`new_name` の名前を持つ新しいプロジェクトが作成されているハズです．\n",
    "\n",
    "そのプロジェクトを開くと，サンプルコードも挿入されています.\n",
    "\n",
    "**つまり， `qx.new_project(new_name)` の実行　=　ウェブで`[新規プロジェクトを作成]`ボタンを押す事**\n",
    "\n",
    "です．\n",
    "\n",
    "ウェブ上のIDEを使って入出力を行う代わりに，jupyter lab を使っているだけです．（追加機能も少し有り）\n",
    "\n",
    "ですので，jupyter lab から実行するたびに，Webの方も更新されています．\n",
    "\n",
    "---\n",
    "\n",
    "### ハッシュ番号（プロジェクトID）\n",
    "\n",
    "では，先ほどの新規プロジェクト作成セルを2−3回実行してみましょう．\n",
    "\n",
    "その後，https://factory.quantx.io/projects を確認してみてください．\n",
    "\n",
    "同じ名前のプロジェクトが複数作られていると思います．\n",
    "\n",
    "QuantXではプロジェクトの管理をハッシュ番号で行っています．よって，プロジェクト名はユニークである必要はありません．プロジェクトの新規作成が行われる度にユニークなハッシュ番号が割り振られます．\n",
    "\n",
    "つまりひとつのプロジェクトを使いまわしたい場合は，このハッシュ番号を使ってプロジェクトを指定することになります．\n",
    "\n",
    "ハッシュ番号はプロジェクトのURLの _developer_ 以下の文字列と同じです．例： https://factory.quantx.io/developer/xxxxxxxxxxxxxxxxxxxxxxxxxxxx\n",
    "\n"
   ]
  },
  {
   "cell_type": "code",
   "execution_count": 12,
   "metadata": {},
   "outputs": [
    {
     "data": {
      "text/plain": [
       "'d7058b6e0eb741a0bfca5a2b29c0f20a'"
      ]
     },
     "execution_count": 12,
     "metadata": {},
     "output_type": "execute_result"
    }
   ],
   "source": [
    "# ハッシュ番号を格納，確認．\n",
    "prjct_hash = prj.project_hash\n",
    "prjct_hash\n"
   ]
  },
  {
   "cell_type": "markdown",
   "metadata": {},
   "source": [
    "**確認！**　取得出来たハッシュタグは，ウェブ上のプロジェクトURLの _developer_ 以下の文字列と一致します．確認してください．\n",
    "\n",
    "（新規作成を複数回した場合は，最も新しいプロジェクトのハッシュ番号と一致します．他のプロジェクトは要らないので，ウェブ上で削除してください）"
   ]
  },
  {
   "cell_type": "markdown",
   "metadata": {},
   "source": [
    "---\n",
    "### コード取得\n",
    "\n",
    "新規作成したプロジェクトにはサンプルコードが自動挿入されています．そのサンプルコードを出力してみましょう．\n",
    "\n",
    "コードは文字列で出力されますが，キレイなフォーマットでは出力されません．\n",
    "\n"
   ]
  },
  {
   "cell_type": "code",
   "execution_count": 10,
   "metadata": {},
   "outputs": [
    {
     "data": {
      "text/plain": [
       "'############################################################################\\n# Sample Algorithm\\n\\ndef initialize(ctx):\\n    # 設定\\n    ctx.logger.debug(\"initialize() called\")\\n    ctx.configure(\\n      channels={          # 利用チャンネル\\n        \"jp.stock\": {\\n          \"symbols\": [\\n            \"jp.stock.1305\",\\n            \"jp.stock.9984\",\\n            \"jp.stock.9983\",\\n            \"jp.stock.7201\",\\n            \"jp.stock.9201\",\\n            \"jp.stock.9202\",\\n            \"jp.stock.7203\"\\n          ],\\n          \"columns\": [\\n            #\"open_price_adj\",    # 始値(株式分割調整後)\\n            #\"high_price_adj\",    # 高値(株式分割調整後)\\n            #\"low_price_adj\",     # 安値(株式分割調整後)\\n            #\"volume_adj\",         # 出来高\\n            #\"txn_volume\",         # 売買代金\\n            \"close_price\",        # 終値\\n            \"close_price_adj\",    # 終値(株式分割調整後) \\n          ]\\n        }\\n      }\\n    )\\n\\n    def _my_signal(data):\\n        return {\\n        }\\n\\n    # シグナル登録\\n    ctx.regist_signal(\"my_signal\", _my_signal)\\n\\ndef handle_signals(ctx, date, current):\\n    \\'\\'\\'\\n    current: pd.DataFrame\\n    \\'\\'\\'\\n\\n    done_syms = set([])\\n    for (sym,val) in ctx.portfolio.positions.items():\\n        returns = val[\"returns\"]\\n        if returns < -0.03:\\n          sec = ctx.getSecurity(sym)\\n          #sec.order(-val[\"amount\"], comment=\"損切り(%f)\" % returns)\\n          done_syms.add(sym)\\n        elif returns > 0.05:\\n          sec = ctx.getSecurity(sym)\\n          #sec.order(-val[\"amount\"], comment=\"利益確定売(%f)\" % returns)\\n          done_syms.add(sym)\\n\\n\\n    #buy = current[\"buy:sig\"].dropna()\\n    #for (sym,val) in buy.items():\\n    #    if sym in done_syms:\\n    #      continue\\n    #    \\n    #    sec = ctx.getSecurity(sym)\\n    #    #sec.order(sec.unit() * 1, comment=\"SIGNAL BUY\")\\n    #    #ctx.logger.debug(\"BUY: %s,  %f\" % (sec.code(), val))\\n    #    pass\\n\\n    #sell = current[\"sell:sig\"].dropna()\\n    #for (sym,val) in sell.items():\\n    #    if sym in done_syms:\\n    #      continue\\n    #\\n    #    sec = ctx.getSecurity(sym)\\n    #    #sec.order(sec.unit() * -1, comment=\"SIGNAL SELL\")\\n    #    #ctx.logger.debug(\"SELL: %s,  %f\" % (sec.code(), val))\\n    #    pass\\n'"
      ]
     },
     "execution_count": 10,
     "metadata": {},
     "output_type": "execute_result"
    }
   ],
   "source": [
    "prj.source()"
   ]
  },
  {
   "cell_type": "markdown",
   "metadata": {},
   "source": [
    "---\n",
    "\n",
    "### プロジェクトパラメータ取得\n",
    "\n",
    "テスト期間，当初資金額を出力してみましょう．ウェブでの右上に出ている「期間」「初期資金量」「選択中のエンジン」と同じ情報が確認出来ます．"
   ]
  },
  {
   "cell_type": "code",
   "execution_count": 11,
   "metadata": {},
   "outputs": [
    {
     "data": {
      "text/plain": [
       "{'engine': 'maron-0.0.1b',\n",
       " 'to_date': '2017-03-31',\n",
       " 'from_date': '2015-01-01',\n",
       " 'capital_base': 10000000}"
      ]
     },
     "execution_count": 11,
     "metadata": {},
     "output_type": "execute_result"
    }
   ],
   "source": [
    "prj.current_backtest_params()"
   ]
  },
  {
   "cell_type": "markdown",
   "metadata": {},
   "source": [
    "---\n",
    "\n",
    "### バックテスト実行\n",
    "\n",
    "サンプルコードをバックテストしてみましょう．\n",
    "\n",
    "（ただし，新規作成した際に自動で挿入されているサンプルコードでは，売買取引の部分がコメントアウトされていますので，結果が出力されません．）\n",
    "\n",
    "まずは，`backtest()` でバックテストを実行し，バックテストオブジェクトを取得します．\n",
    "\n",
    "そのオブジェクトにたいして `join()` を実行して結果を得ます．\n",
    "\n",
    "`summary()` で結果のサマリーを取得します．\n",
    "\n"
   ]
  },
  {
   "cell_type": "code",
   "execution_count": 15,
   "metadata": {},
   "outputs": [
    {
     "data": {
      "text/plain": [
       "{'2015': 0,\n",
       " '2016': 0,\n",
       " '2017': 0,\n",
       " 'Volatility': 0,\n",
       " 'SharpeRatio': None,\n",
       " 'MaxDrawdown': 0,\n",
       " 'Alpha': 0,\n",
       " 'Beta': [0],\n",
       " 'TradingDays': 550,\n",
       " 'ReturnValue': 10000000,\n",
       " 'ReturnRatio': '0.0',\n",
       " 'SignalCount': 0}"
      ]
     },
     "execution_count": 15,
     "metadata": {},
     "output_type": "execute_result"
    }
   ],
   "source": [
    "# backtest の実行. backtest object を取得\n",
    "bt = prj.backtest()\n",
    "\n",
    "# backtest result インスタンスを作成\n",
    "join = bt.join()\n",
    "\n",
    "# 結果のサマリーを取得\n",
    "summary = join.summary()\n",
    "\n",
    "# summary を見ると何も結果無し。\n",
    "summary"
   ]
  },
  {
   "cell_type": "markdown",
   "metadata": {},
   "source": [
    "---\n",
    "\n",
    "## 自分のアルゴリズムをUploadして実行\n",
    "\n",
    "では，簡単なアルゴリズムをUploadして結果を出力させてみましょう．今回は[RSIのアルゴリズム](https://qiita.com/shinseitaro/items/6a699cf795c7254b0c84)を使ってみます．\n",
    "\n",
    "アルゴリズムは文字列で渡します．Python では，**ダブルクォーテーション3つでくくる**と複数行に渡る文字列を記述する事が出来ます．\n",
    "\n",
    "\n",
    "\n",
    "\n"
   ]
  },
  {
   "cell_type": "code",
   "execution_count": 20,
   "metadata": {
    "collapsed": true
   },
   "outputs": [],
   "source": [
    "#簡単なバックテストコード\n",
    "source = \"\"\"\n",
    "\n",
    "import numpy as np \n",
    "import talib as ta \n",
    "\n",
    "\n",
    "def initialize(ctx):\n",
    "    # 設定\n",
    "    ctx.target = 0.10\n",
    "    ctx.period = 5\n",
    "    ctx.codes = [1605, 1925, 2503, 4519, 4911, 6301, 6752, 7741, 8001] \n",
    "    ctx.symbol_list  = [\"jp.stock.{}\".format(code) for code in ctx.codes]\n",
    "\n",
    "\n",
    "    ctx.configure(\n",
    "      channels={          # 利用チャンネル\n",
    "        \"jp.stock\": {\n",
    "          \"symbols\":ctx.symbol_list,\n",
    "          \"columns\": [\"close_price_adj\",    # 終値(株式分割調整後) \n",
    "          ]}})\n",
    "\n",
    "    def _RSI(data):\n",
    "\n",
    "      df_close = data[\"close_price_adj\"].fillna(method='ffill')\n",
    "      # memo 参照\n",
    "      df_rsi = df_close.apply(lambda s: ta.RSI(s.values.astype(np.double), timeperiod=ctx.period),axis=0)\n",
    "\n",
    "      buy_sig = df_rsi < 30.0 \n",
    "      sell_sig = df_rsi > 70.0 \n",
    "\n",
    "      return {\n",
    "        \"rsi\": df_rsi,\n",
    "        \"buy:sig\": buy_sig, \n",
    "        \"sell:sig\": sell_sig, \n",
    "\n",
    "        }\n",
    "\n",
    "    # シグナル登録\n",
    "    ctx.regist_signal(\"RSI\", _RSI)\n",
    "\n",
    "def handle_signals(ctx, date, current):\n",
    "    df = current.copy()\n",
    "\n",
    "    # 買いシグナル\n",
    "    df_long = df[df[\"buy:sig\"]]\n",
    "    if not df_long.empty:\n",
    "      for (sym, val) in df_long.iterrows(): \n",
    "        sec = ctx.getSecurity(sym)\n",
    "        msg = \"買いシグナル\"\n",
    "        sec.order_target_percent(ctx.target, comment= msg)\n",
    "\n",
    "    # 売り（ポジションクローズ）シグナル\n",
    "    df_sell = df[df[\"sell:sig\"]]\n",
    "    if not df_sell.empty:\n",
    "      for (sym, val) in df_sell.iterrows(): \n",
    "        sec = ctx.getSecurity(sym)\n",
    "        msg = \"売りシグナル\"\n",
    "        sec.order_target_percent(0, comment= msg)\n",
    "        \n",
    "\n",
    "\"\"\""
   ]
  },
  {
   "cell_type": "markdown",
   "metadata": {},
   "source": [
    "次にプロジェクトを指定して，コードをUploadします．\n",
    "\n",
    "先ほど作った `prjct_hash` を利用して，プロジェクトオブジェクトを作ります．\n",
    "\n",
    "そのオブジェクトに対して， `upload_source()` メソッドでコードをUploadします．\n",
    "\n",
    "`'code': 200` が返ってくればOKです．\n",
    "\n"
   ]
  },
  {
   "cell_type": "code",
   "execution_count": 21,
   "metadata": {},
   "outputs": [
    {
     "data": {
      "text/plain": [
       "{'code': 200,\n",
       " 'result': {'hash': 'd7058b6e0eb741a0bfca5a2b29c0f20a',\n",
       "  'updated_at': '2018-09-20T06:43:46.821Z'}}"
      ]
     },
     "execution_count": 21,
     "metadata": {},
     "output_type": "execute_result"
    }
   ],
   "source": [
    "# hash番号を与えてプロジェクトオブジェクトを作ります\n",
    "prj = qx.project(prjct_hash)\n",
    "\n",
    "# プロジェクトにコードをUpload\n",
    "prj.upload_source(source)\n"
   ]
  },
  {
   "cell_type": "markdown",
   "metadata": {},
   "source": [
    "ここで，ウェブのプロジェクトを確認してみましょう．コードが書き換えられている事が確認出来たと思います．\n",
    "\n",
    "次にバックテストを実行します．上記の通り `prj.backtest()` すれば良いのですが，プロジェクトパラメータを変更してみましょう．\n"
   ]
  },
  {
   "cell_type": "code",
   "execution_count": 23,
   "metadata": {
    "collapsed": true
   },
   "outputs": [],
   "source": [
    "# バックテストパラメータ\n",
    "bt_parameter = {\n",
    "    'engine': 'maron-0.0.1b',\n",
    "    'from_date': '2017-01-01',\n",
    "    'to_date': '2018-09-01',\n",
    "    'capital_base': 10000000}\n",
    "\n",
    "# backtest の実行. \n",
    "bt = prj.backtest(bt_parameter)\n",
    "\n",
    "## backtest result インスタンスを作成\n",
    "join = bt.join()\n",
    "\n",
    "## 結果のサマリーを取得\n",
    "summary = join.summary()\n",
    "summary"
   ]
  },
  {
   "cell_type": "markdown",
   "metadata": {},
   "source": [
    "銘柄毎のsummaryを出すには `symbol_summary()` を使います"
   ]
  },
  {
   "cell_type": "code",
   "execution_count": 25,
   "metadata": {},
   "outputs": [
    {
     "data": {
      "text/html": [
       "<div>\n",
       "<style scoped>\n",
       "    .dataframe tbody tr th:only-of-type {\n",
       "        vertical-align: middle;\n",
       "    }\n",
       "\n",
       "    .dataframe tbody tr th {\n",
       "        vertical-align: top;\n",
       "    }\n",
       "\n",
       "    .dataframe thead th {\n",
       "        text-align: right;\n",
       "    }\n",
       "</style>\n",
       "<table border=\"1\" class=\"dataframe\">\n",
       "  <thead>\n",
       "    <tr style=\"text-align: right;\">\n",
       "      <th></th>\n",
       "      <th>symbol</th>\n",
       "      <th>name</th>\n",
       "      <th>sector</th>\n",
       "      <th>txn_count</th>\n",
       "      <th>position_count</th>\n",
       "      <th>valuation</th>\n",
       "      <th>return</th>\n",
       "    </tr>\n",
       "  </thead>\n",
       "  <tbody>\n",
       "    <tr>\n",
       "      <th>0</th>\n",
       "      <td>jp.stock.1605</td>\n",
       "      <td>国際石油開発帝石(株)</td>\n",
       "      <td>鉱業</td>\n",
       "      <td>24</td>\n",
       "      <td>0</td>\n",
       "      <td>0.0</td>\n",
       "      <td>-7250.0</td>\n",
       "    </tr>\n",
       "    <tr>\n",
       "      <th>1</th>\n",
       "      <td>jp.stock.1925</td>\n",
       "      <td>大和ハウス工業(株)</td>\n",
       "      <td>建設業</td>\n",
       "      <td>18</td>\n",
       "      <td>300</td>\n",
       "      <td>1016700.0</td>\n",
       "      <td>9600.0</td>\n",
       "    </tr>\n",
       "    <tr>\n",
       "      <th>2</th>\n",
       "      <td>jp.stock.2503</td>\n",
       "      <td>キリンホールディングス(株)</td>\n",
       "      <td>食料品</td>\n",
       "      <td>24</td>\n",
       "      <td>0</td>\n",
       "      <td>0.0</td>\n",
       "      <td>229300.0</td>\n",
       "    </tr>\n",
       "    <tr>\n",
       "      <th>3</th>\n",
       "      <td>jp.stock.4519</td>\n",
       "      <td>中外製薬(株)</td>\n",
       "      <td>医薬品</td>\n",
       "      <td>21</td>\n",
       "      <td>0</td>\n",
       "      <td>0.0</td>\n",
       "      <td>320500.0</td>\n",
       "    </tr>\n",
       "    <tr>\n",
       "      <th>4</th>\n",
       "      <td>jp.stock.4911</td>\n",
       "      <td>(株)資生堂</td>\n",
       "      <td>化学</td>\n",
       "      <td>22</td>\n",
       "      <td>0</td>\n",
       "      <td>0.0</td>\n",
       "      <td>411200.0</td>\n",
       "    </tr>\n",
       "    <tr>\n",
       "      <th>5</th>\n",
       "      <td>jp.stock.6301</td>\n",
       "      <td>コマツ</td>\n",
       "      <td>機械</td>\n",
       "      <td>20</td>\n",
       "      <td>0</td>\n",
       "      <td>0.0</td>\n",
       "      <td>75550.0</td>\n",
       "    </tr>\n",
       "    <tr>\n",
       "      <th>6</th>\n",
       "      <td>jp.stock.6752</td>\n",
       "      <td>パナソニック(株)</td>\n",
       "      <td>電気機器</td>\n",
       "      <td>23</td>\n",
       "      <td>800</td>\n",
       "      <td>1061200.0</td>\n",
       "      <td>38300.0</td>\n",
       "    </tr>\n",
       "    <tr>\n",
       "      <th>7</th>\n",
       "      <td>jp.stock.7741</td>\n",
       "      <td>ＨＯＹＡ(株)</td>\n",
       "      <td>精密機器</td>\n",
       "      <td>21</td>\n",
       "      <td>100</td>\n",
       "      <td>649700.0</td>\n",
       "      <td>220200.0</td>\n",
       "    </tr>\n",
       "    <tr>\n",
       "      <th>8</th>\n",
       "      <td>jp.stock.8001</td>\n",
       "      <td>伊藤忠商事(株)</td>\n",
       "      <td>卸売業</td>\n",
       "      <td>18</td>\n",
       "      <td>0</td>\n",
       "      <td>0.0</td>\n",
       "      <td>87500.0</td>\n",
       "    </tr>\n",
       "  </tbody>\n",
       "</table>\n",
       "</div>"
      ],
      "text/plain": [
       "          symbol            name sector  txn_count  position_count  valuation  \\\n",
       "0  jp.stock.1605     国際石油開発帝石(株)     鉱業         24               0        0.0   \n",
       "1  jp.stock.1925      大和ハウス工業(株)    建設業         18             300  1016700.0   \n",
       "2  jp.stock.2503  キリンホールディングス(株)    食料品         24               0        0.0   \n",
       "3  jp.stock.4519         中外製薬(株)    医薬品         21               0        0.0   \n",
       "4  jp.stock.4911          (株)資生堂     化学         22               0        0.0   \n",
       "5  jp.stock.6301             コマツ     機械         20               0        0.0   \n",
       "6  jp.stock.6752       パナソニック(株)   電気機器         23             800  1061200.0   \n",
       "7  jp.stock.7741         ＨＯＹＡ(株)   精密機器         21             100   649700.0   \n",
       "8  jp.stock.8001        伊藤忠商事(株)    卸売業         18               0        0.0   \n",
       "\n",
       "     return  \n",
       "0   -7250.0  \n",
       "1    9600.0  \n",
       "2  229300.0  \n",
       "3  320500.0  \n",
       "4  411200.0  \n",
       "5   75550.0  \n",
       "6   38300.0  \n",
       "7  220200.0  \n",
       "8   87500.0  "
      ]
     },
     "execution_count": 25,
     "metadata": {},
     "output_type": "execute_result"
    }
   ],
   "source": [
    "join.symbol_summary()"
   ]
  },
  {
   "cell_type": "markdown",
   "metadata": {},
   "source": [
    "### 動的にコードを変更（アルゴリズムをテンプレート化）\n",
    "\n",
    "`source` をテンプレート化して，銘柄を動的に変えて評価していきましょう。\n",
    "\n",
    "`ctx.codes = [1605, 1925, 2503, 4519, 4911, 6301, 6752, 7741, 8001] ` で指定している銘柄を動的に変更していきます．\n",
    "\n",
    "テンプレートで動的に変更したい箇所を `{{ 引数名 }}` と記述し，レンダーして使います．\n",
    "\n",
    "まずは `my_template` を作ります．\n",
    "\n"
   ]
  },
  {
   "cell_type": "code",
   "execution_count": 27,
   "metadata": {
    "collapsed": true
   },
   "outputs": [],
   "source": [
    "my_template = \"\"\"\n",
    "\n",
    "import numpy as np \n",
    "import talib as ta \n",
    "\n",
    "\n",
    "def initialize(ctx):\n",
    "    # 設定\n",
    "    ctx.target = 0.10\n",
    "    ctx.period = 5\n",
    "    ctx.codes = {{symbols}} # <= 動的に銘柄を変更する\n",
    "    ctx.symbol_list  = [\"jp.stock.{}\".format(code) for code in ctx.codes]\n",
    "\n",
    "\n",
    "    ctx.configure(\n",
    "      channels={          # 利用チャンネル\n",
    "        \"jp.stock\": {\n",
    "          \"symbols\":ctx.symbol_list,\n",
    "          \"columns\": [\"close_price_adj\",    # 終値(株式分割調整後) \n",
    "          ]}})\n",
    "\n",
    "    def _RSI(data):\n",
    "\n",
    "      df_close = data[\"close_price_adj\"].fillna(method='ffill')\n",
    "      # memo 参照\n",
    "      df_rsi = df_close.apply(lambda s: ta.RSI(s.values.astype(np.double), timeperiod=ctx.period),axis=0)\n",
    "\n",
    "      buy_sig = df_rsi < 30.0 \n",
    "      sell_sig = df_rsi > 70.0 \n",
    "\n",
    "      return {\n",
    "        \"rsi\": df_rsi,\n",
    "        \"buy:sig\": buy_sig, \n",
    "        \"sell:sig\": sell_sig, \n",
    "\n",
    "        }\n",
    "\n",
    "    # シグナル登録\n",
    "    ctx.regist_signal(\"RSI\", _RSI)\n",
    "\n",
    "def handle_signals(ctx, date, current):\n",
    "    df = current.copy()\n",
    "\n",
    "    # 買いシグナル\n",
    "    df_long = df[df[\"buy:sig\"]]\n",
    "    if not df_long.empty:\n",
    "      for (sym, val) in df_long.iterrows(): \n",
    "        sec = ctx.getSecurity(sym)\n",
    "        msg = \"買いシグナル\"\n",
    "        sec.order_target_percent(ctx.target, comment= msg)\n",
    "\n",
    "    # 売り（ポジションクローズ）シグナル\n",
    "    df_sell = df[df[\"sell:sig\"]]\n",
    "    if not df_sell.empty:\n",
    "      for (sym, val) in df_sell.iterrows(): \n",
    "        sec = ctx.getSecurity(sym)\n",
    "        msg = \"売りシグナル\"\n",
    "        sec.order_target_percent(0, comment= msg)\n",
    "        \n",
    "\n",
    "\"\"\""
   ]
  },
  {
   "cell_type": "markdown",
   "metadata": {},
   "source": [
    "次に銘柄リストを作り，テンプレートにレンダーします．\n",
    "\n",
    "そのコードを実行してみましょう．\n",
    "\n"
   ]
  },
  {
   "cell_type": "code",
   "execution_count": 30,
   "metadata": {
    "collapsed": true
   },
   "outputs": [],
   "source": [
    "from jinja2 import Template\n",
    "\n",
    "symbols = [3276, 2117, 4581, 6620, 7022]\n",
    "source2 = Template(my_template).render({'symbols': symbols})\n",
    "\n",
    "# バックテストパラメータ\n",
    "bt_parameter = {\n",
    "    'engine': 'maron-0.0.1b',\n",
    "    'from_date': '2017-01-01',\n",
    "    'to_date': '2018-09-01',\n",
    "    'capital_base': 10000000}\n",
    "\n",
    "prj = qx.project(prjct_hash)\n",
    "prj.upload_source(source2)\n",
    "bt = prj.backtest()\n",
    "join = bt.join()\n",
    "summary = join.summary()\n",
    "symbol_summary = join.symbol_summary()\n"
   ]
  },
  {
   "cell_type": "code",
   "execution_count": 32,
   "metadata": {},
   "outputs": [
    {
     "data": {
      "text/plain": [
       "{'2015': 0.06088000000000093,\n",
       " '2016': 0.08384548397953107,\n",
       " '2017': 0.022298948255412343,\n",
       " 'Volatility': 0.09486735492231595,\n",
       " 'SharpeRatio': 0.8295474803974042,\n",
       " 'MaxDrawdown': -0.11324869467645127,\n",
       " 'Alpha': 0.06047005869060031,\n",
       " 'Beta': [0.2782649306611768],\n",
       " 'TradingDays': 550,\n",
       " 'ReturnValue': 11754699.96650815,\n",
       " 'ReturnRatio': '17.5',\n",
       " 'SignalCount': 215}"
      ]
     },
     "execution_count": 32,
     "metadata": {},
     "output_type": "execute_result"
    }
   ],
   "source": [
    "## 結果を出してみましょう。\n",
    "summary"
   ]
  },
  {
   "cell_type": "code",
   "execution_count": 33,
   "metadata": {},
   "outputs": [
    {
     "data": {
      "text/html": [
       "<div>\n",
       "<style scoped>\n",
       "    .dataframe tbody tr th:only-of-type {\n",
       "        vertical-align: middle;\n",
       "    }\n",
       "\n",
       "    .dataframe tbody tr th {\n",
       "        vertical-align: top;\n",
       "    }\n",
       "\n",
       "    .dataframe thead th {\n",
       "        text-align: right;\n",
       "    }\n",
       "</style>\n",
       "<table border=\"1\" class=\"dataframe\">\n",
       "  <thead>\n",
       "    <tr style=\"text-align: right;\">\n",
       "      <th></th>\n",
       "      <th>symbol</th>\n",
       "      <th>name</th>\n",
       "      <th>sector</th>\n",
       "      <th>txn_count</th>\n",
       "      <th>position_count</th>\n",
       "      <th>valuation</th>\n",
       "      <th>return</th>\n",
       "    </tr>\n",
       "  </thead>\n",
       "  <tbody>\n",
       "    <tr>\n",
       "      <th>0</th>\n",
       "      <td>jp.stock.2117</td>\n",
       "      <td>日新製糖(株)</td>\n",
       "      <td>食料品</td>\n",
       "      <td>18</td>\n",
       "      <td>599.999982</td>\n",
       "      <td>1.123800e+06</td>\n",
       "      <td>410599.966508</td>\n",
       "    </tr>\n",
       "    <tr>\n",
       "      <th>1</th>\n",
       "      <td>jp.stock.3276</td>\n",
       "      <td>日本管理センター(株)</td>\n",
       "      <td>不動産業</td>\n",
       "      <td>36</td>\n",
       "      <td>0.000000</td>\n",
       "      <td>0.000000e+00</td>\n",
       "      <td>-78300.000000</td>\n",
       "    </tr>\n",
       "    <tr>\n",
       "      <th>2</th>\n",
       "      <td>jp.stock.4581</td>\n",
       "      <td>大正製薬ホールディングス(株)</td>\n",
       "      <td>医薬品</td>\n",
       "      <td>28</td>\n",
       "      <td>0.000000</td>\n",
       "      <td>0.000000e+00</td>\n",
       "      <td>300000.000000</td>\n",
       "    </tr>\n",
       "    <tr>\n",
       "      <th>3</th>\n",
       "      <td>jp.stock.6620</td>\n",
       "      <td>宮越ホールディングス(株)</td>\n",
       "      <td>電気機器</td>\n",
       "      <td>51</td>\n",
       "      <td>0.000000</td>\n",
       "      <td>0.000000e+00</td>\n",
       "      <td>600500.000000</td>\n",
       "    </tr>\n",
       "    <tr>\n",
       "      <th>4</th>\n",
       "      <td>jp.stock.7022</td>\n",
       "      <td>サノヤスホールディングス(株)</td>\n",
       "      <td>輸送用機器</td>\n",
       "      <td>82</td>\n",
       "      <td>4000.000000</td>\n",
       "      <td>1.160000e+06</td>\n",
       "      <td>521900.000000</td>\n",
       "    </tr>\n",
       "  </tbody>\n",
       "</table>\n",
       "</div>"
      ],
      "text/plain": [
       "          symbol             name sector  txn_count  position_count  \\\n",
       "0  jp.stock.2117          日新製糖(株)    食料品         18      599.999982   \n",
       "1  jp.stock.3276      日本管理センター(株)   不動産業         36        0.000000   \n",
       "2  jp.stock.4581  大正製薬ホールディングス(株)    医薬品         28        0.000000   \n",
       "3  jp.stock.6620    宮越ホールディングス(株)   電気機器         51        0.000000   \n",
       "4  jp.stock.7022  サノヤスホールディングス(株)  輸送用機器         82     4000.000000   \n",
       "\n",
       "      valuation         return  \n",
       "0  1.123800e+06  410599.966508  \n",
       "1  0.000000e+00  -78300.000000  \n",
       "2  0.000000e+00  300000.000000  \n",
       "3  0.000000e+00  600500.000000  \n",
       "4  1.160000e+06  521900.000000  "
      ]
     },
     "execution_count": 33,
     "metadata": {},
     "output_type": "execute_result"
    }
   ],
   "source": [
    "## 銘柄ごとのサマリーを見ると指定した銘柄が実行されているのがわかりますね．\n",
    "join.symbol_summary()"
   ]
  },
  {
   "cell_type": "markdown",
   "metadata": {},
   "source": [
    "ウェブ上でもコードが書き換わっていることを確認してみてください．\n"
   ]
  }
 ],
 "metadata": {
  "kernelspec": {
   "display_name": "Python 3",
   "language": "python",
   "name": "python3"
  },
  "language_info": {
   "codemirror_mode": {
    "name": "ipython",
    "version": 3
   },
   "file_extension": ".py",
   "mimetype": "text/x-python",
   "name": "python",
   "nbconvert_exporter": "python",
   "pygments_lexer": "ipython3",
   "version": "3.6.6"
  }
 },
 "nbformat": 4,
 "nbformat_minor": 2
}
