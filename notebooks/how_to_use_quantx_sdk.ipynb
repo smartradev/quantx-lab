{
 "cells": [
  {
   "cell_type": "markdown",
   "metadata": {},
   "source": [
    "# setup\n",
    "\n",
    "### 事前準備\n",
    "`api_key.py` を用意\n",
    "\n",
    "```python\n",
    "public_key = 'xxxxxxxx-xxxx-xxxx-xxxx-xxxxxxxxxxxx'\n",
    "secret_key = 'xxxxxxxx-xxxx-xxxx-xxxx-xxxxxxxxxxxx'\n",
    "```"
   ]
  },
  {
   "cell_type": "code",
   "execution_count": null,
   "metadata": {},
   "outputs": [],
   "source": [
    "import api_key\n",
    "from quantx_sdk import QX\n",
    "qx = QX(api_key.public_key, api_key.secret_key)"
   ]
  },
  {
   "cell_type": "markdown",
   "metadata": {},
   "source": [
    "# プロジェクト関連\n",
    "- プロジェクトとは、QuantX Factoryで作成中のアルゴリズムです。"
   ]
  },
  {
   "cell_type": "markdown",
   "metadata": {},
   "source": [
    "## プロジェクト一覧を取得"
   ]
  },
  {
   "cell_type": "code",
   "execution_count": null,
   "metadata": {},
   "outputs": [],
   "source": [
    "# project\n",
    "projects = qx.projects()"
   ]
  },
  {
   "cell_type": "markdown",
   "metadata": {},
   "source": [
    "## プロジェクトのソースを取得"
   ]
  },
  {
   "cell_type": "code",
   "execution_count": null,
   "metadata": {},
   "outputs": [],
   "source": [
    "source = projects[0].source()\n",
    "print(source)"
   ]
  },
  {
   "cell_type": "markdown",
   "metadata": {},
   "source": [
    "## プロジェクトの設定変更・上書き\n",
    "- バックテストパラメータの取得・変更\n",
    "- ソースコードの取得・変更"
   ]
  },
  {
   "cell_type": "code",
   "execution_count": null,
   "metadata": {},
   "outputs": [],
   "source": [
    "params = projects[0].current_backtest_params()\n",
    "\"\"\"\n",
    "p.update_default_backtest_params({\n",
    "    \"engine\": \"maron-0.0.1b\", # エンジン\n",
    "    \"from_date\": \"2017-01-01\", # バックテスト開始日\n",
    "    \"to_date\": \"2017-12-31\", # バックテスト終了日\n",
    "    \"capital_base\": 10000000 # 初期資金\n",
    "})\n",
    "\"\"\"\n",
    "# p.upload_source_file(file_path)\n",
    "# p.upload_source(\"...\")\n",
    "# p.to_dict()"
   ]
  },
  {
   "cell_type": "markdown",
   "metadata": {},
   "source": [
    "## バックテストの実行\n",
    "- バックテストの実行は非同期です。\n",
    "- 終了を待つ場合、join()メソッドを呼び出してください。\n",
    "- join()の戻り値はバックテスト結果です。\n",
    "- join()の引数に下記のような関数を指定することで、バックテスト中のログがリアルタイムに確認できます。"
   ]
  },
  {
   "cell_type": "code",
   "execution_count": null,
   "metadata": {},
   "outputs": [],
   "source": [
    "# run backtest\n",
    "bt = projects[0].backtest()\n",
    "res = bt.join(lambda a,b: print(a,b))"
   ]
  },
  {
   "cell_type": "markdown",
   "metadata": {},
   "source": [
    "## バックテスト結果の確認。\n",
    "- 他、コメントアウトしてあるメソッドが存在します。"
   ]
  },
  {
   "cell_type": "code",
   "execution_count": null,
   "metadata": {},
   "outputs": [],
   "source": [
    "res.benchmark()\n",
    "# res.summary()\n",
    "# res.symbol_summary()\n",
    "# res.trade_history_by_symbol(\"jp.stock.9999\")\n",
    "# res.source()\n",
    "# res.log()\n",
    "# res.params()\n",
    "# res.to_dict()"
   ]
  },
  {
   "cell_type": "markdown",
   "metadata": {},
   "source": [
    "## 過去のバックテストを取得\n",
    "- 過去に実行したバックテストの一覧を取得します。\n",
    "- 当時のソースコードやパラメータも取得が可能です。"
   ]
  },
  {
   "cell_type": "code",
   "execution_count": null,
   "metadata": {},
   "outputs": [],
   "source": [
    "backtests = projects[0].backtests()\n",
    "backtests[0].summary()"
   ]
  },
  {
   "cell_type": "markdown",
   "metadata": {},
   "source": [
    "# アルゴリズム関連\n",
    "- アルゴリズムとは、購入済みアルゴリズム及び自分で作ったプロジェクトでライブ中のものです。"
   ]
  },
  {
   "cell_type": "markdown",
   "metadata": {},
   "source": [
    "## アルゴリズムの一覧を取得します。"
   ]
  },
  {
   "cell_type": "code",
   "execution_count": null,
   "metadata": {},
   "outputs": [],
   "source": [
    "# algorithm\n",
    "algorithms = qx.algorithms()"
   ]
  },
  {
   "cell_type": "markdown",
   "metadata": {},
   "source": [
    "## シグナルの取得\n",
    "- 他、コメントアウトしてあるメソッドが存在します。"
   ]
  },
  {
   "cell_type": "code",
   "execution_count": null,
   "metadata": {},
   "outputs": [],
   "source": [
    "algorithms[0].signals()\n",
    "# algorithms[0].product()\n",
    "# algorithms[0].seller()\n",
    "# algorithms[0].order()\n",
    "# algorithms[0].symbols()\n",
    "# algorithms[0].summary()\n",
    "# algorithms[0].info()\n",
    "# algorithms[0].to_dict()"
   ]
  },
  {
   "cell_type": "markdown",
   "metadata": {},
   "source": [
    "## ポートフォリオの取得"
   ]
  },
  {
   "cell_type": "code",
   "execution_count": null,
   "metadata": {},
   "outputs": [],
   "source": [
    "# portfolio\n",
    "portfolio = algorithms[0].portfolio()"
   ]
  },
  {
   "cell_type": "markdown",
   "metadata": {},
   "source": [
    "## ポートフォリオのポジション取得\n",
    "\n",
    "- 他、コメントアウトしてあるメソッドが存在します。"
   ]
  },
  {
   "cell_type": "code",
   "execution_count": null,
   "metadata": {},
   "outputs": [],
   "source": [
    "portfolio.positions()\n",
    "# portfolio.summary()\n",
    "# portfolio.orders()\n",
    "# portfolio.trends()"
   ]
  },
  {
   "cell_type": "markdown",
   "metadata": {},
   "source": [
    "# その他"
   ]
  },
  {
   "cell_type": "markdown",
   "metadata": {},
   "source": [
    "## プロジェクトはproject_hash指定で取得が可能です。"
   ]
  },
  {
   "cell_type": "code",
   "execution_count": null,
   "metadata": {},
   "outputs": [],
   "source": [
    "p = qx.project(projects[0].project_hash)"
   ]
  },
  {
   "cell_type": "markdown",
   "metadata": {},
   "source": [
    "## アルゴリズムもlive_hash指定で取得が可能です。"
   ]
  },
  {
   "cell_type": "code",
   "execution_count": null,
   "metadata": {},
   "outputs": [],
   "source": [
    "a = qx.algorithm(algorithms[0].live_hash)\n",
    "a.product()"
   ]
  },
  {
   "cell_type": "code",
   "execution_count": null,
   "metadata": {},
   "outputs": [],
   "source": []
  }
 ],
 "metadata": {
  "kernelspec": {
   "display_name": "Python 3",
   "language": "python",
   "name": "python3"
  },
  "language_info": {
   "codemirror_mode": {
    "name": "ipython",
    "version": 3
   },
   "file_extension": ".py",
   "mimetype": "text/x-python",
   "name": "python",
   "nbconvert_exporter": "python",
   "pygments_lexer": "ipython3",
   "version": "3.6.6"
  }
 },
 "nbformat": 4,
 "nbformat_minor": 2
}
